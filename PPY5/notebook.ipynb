{
 "cells": [
  {
   "attachments": {},
   "cell_type": "markdown",
   "metadata": {},
   "source": [
    "Zadanie 1"
   ]
  },
  {
   "cell_type": "code",
   "execution_count": 1,
   "metadata": {},
   "outputs": [
    {
     "name": "stdout",
     "output_type": "stream",
     "text": [
      "Mikołaj, Magdalena, Grzegorz, Marek, Monika\n"
     ]
    }
   ],
   "source": [
    "def main():\n",
    "    print(\"Mikołaj, Magdalena, Grzegorz, Marek, Monika\")\n",
    "\n",
    "\n",
    "if __name__ == \"__main__\":\n",
    "    main()\n"
   ]
  },
  {
   "attachments": {},
   "cell_type": "markdown",
   "metadata": {},
   "source": [
    "Zadanie 2"
   ]
  },
  {
   "cell_type": "code",
   "execution_count": 2,
   "metadata": {},
   "outputs": [
    {
     "name": "stdout",
     "output_type": "stream",
     "text": [
      "Mikołaj,\n",
      " Magdalena,\n",
      " Grzegorz,\n",
      " Marek,\n",
      " Monika\n"
     ]
    }
   ],
   "source": [
    "def main():\n",
    "    print(\"Mikołaj,\\n Magdalena,\\n Grzegorz,\\n Marek,\\n Monika\")\n",
    "\n",
    "\n",
    "if __name__ == \"__main__\":\n",
    "    main()\n"
   ]
  },
  {
   "attachments": {},
   "cell_type": "markdown",
   "metadata": {},
   "source": [
    "Zadanie 3"
   ]
  },
  {
   "cell_type": "code",
   "execution_count": 3,
   "metadata": {},
   "outputs": [
    {
     "name": "stdout",
     "output_type": "stream",
     "text": [
      "****\n",
      "*  *\n",
      "****\n",
      "area: 12\n",
      "circumference: 14\n"
     ]
    }
   ],
   "source": [
    "def main():\n",
    "    height = 3\n",
    "    width = 4\n",
    "    for i in range(height):\n",
    "        for j in range(width):\n",
    "            if i == 0 or i == height-1 or j == 0 or j == width-1:\n",
    "                print(\"*\", end=\"\")\n",
    "            else:\n",
    "                print(\" \", end=\"\")\n",
    "        print(\"\")\n",
    "    print(f\"area: {height*width}\")\n",
    "    print(f\"circumference: {2*height + 2*width}\")\n",
    "\n",
    "\n",
    "if __name__ == \"__main__\":\n",
    "    main()\n"
   ]
  },
  {
   "attachments": {},
   "cell_type": "markdown",
   "metadata": {},
   "source": [
    "Zadanie 4"
   ]
  },
  {
   "cell_type": "code",
   "execution_count": 4,
   "metadata": {},
   "outputs": [
    {
     "name": "stdout",
     "output_type": "stream",
     "text": [
      "najwyzsza cena po nalozeniu podatku: 5.5\n",
      "najniższa cena przed i po: 3.59\n",
      "średnia przed podwyżką cen: 3.895\n",
      "średnia cena po dodaniu nowego podatku: 4.736\n"
     ]
    }
   ],
   "source": [
    "def main():\n",
    "    before = (3.69, 4.5, 3.6, 4.0, 3.99, 3.59)\n",
    "    after = (4.5, 5.5, 4.69, 4.99, 4.00)\n",
    "\n",
    "    maxAfter = max(after)\n",
    "    minCombined = min(min(before), min(after))\n",
    "    avgBefore = sum(before)/len(before)\n",
    "    avgAfter = sum(after)/len(after)\n",
    "\n",
    "    print(f\"najwyzsza cena po nalozeniu podatku: {maxAfter}\")\n",
    "    print(f\"najniższa cena przed i po: {minCombined}\")\n",
    "    print(f\"średnia przed podwyżką cen: {avgBefore}\")\n",
    "    print(f\"średnia cena po dodaniu nowego podatku: {avgAfter}\")\n",
    "\n",
    "\n",
    "if __name__ == \"__main__\":\n",
    "    main()\n"
   ]
  },
  {
   "attachments": {},
   "cell_type": "markdown",
   "metadata": {},
   "source": [
    "Zadanie 5"
   ]
  },
  {
   "cell_type": "code",
   "execution_count": 5,
   "metadata": {},
   "outputs": [
    {
     "name": "stdout",
     "output_type": "stream",
     "text": [
      "{'walter': 6, 'jesse': 5, 'gustavo': 7, 'mike': 4, 'saul': 4}\n"
     ]
    }
   ],
   "source": [
    "def main():\n",
    "    tv_characters = {\n",
    "        \"walter\": 0,\n",
    "        \"jesse\": 0,\n",
    "        \"gustavo\": 0,\n",
    "        \"mike\": 0,\n",
    "        \"saul\": 0,\n",
    "    }\n",
    "\n",
    "    for key, _ in tv_characters.items():\n",
    "        tv_characters[key] = len(key)\n",
    "\n",
    "    print(tv_characters)\n",
    "\n",
    "\n",
    "if __name__ == \"__main__\":\n",
    "    main()\n"
   ]
  },
  {
   "attachments": {},
   "cell_type": "markdown",
   "metadata": {},
   "source": [
    "Zadanie 6, num = -5"
   ]
  },
  {
   "cell_type": "code",
   "execution_count": 6,
   "metadata": {},
   "outputs": [
    {
     "name": "stdout",
     "output_type": "stream",
     "text": [
      "absolute value: 5\n"
     ]
    }
   ],
   "source": [
    "def main():\n",
    "    num = int(str(input(\"input number: \")))\n",
    "\n",
    "    if (num < 0):\n",
    "        num = num * -1\n",
    "    print(f\"absolute value: {num}\")\n",
    "\n",
    "\n",
    "if __name__ == \"__main__\":\n",
    "    main()\n"
   ]
  },
  {
   "attachments": {},
   "cell_type": "markdown",
   "metadata": {},
   "source": [
    "Zadanie 7, num = 10"
   ]
  },
  {
   "cell_type": "code",
   "execution_count": 7,
   "metadata": {},
   "outputs": [
    {
     "name": "stdout",
     "output_type": "stream",
     "text": [
      "2.0\n",
      "2.1\n",
      "2.2\n",
      "2.3\n",
      "2.4\n",
      "2.5\n",
      "2.6\n",
      "2.7\n",
      "2.8\n",
      "2.9\n",
      "3.0\n",
      "3.1\n",
      "3.2\n",
      "3.3\n",
      "3.4\n",
      "3.5\n",
      "3.6\n",
      "3.7\n",
      "3.8\n",
      "3.9\n",
      "4.0\n",
      "4.1\n",
      "4.2\n",
      "4.3\n",
      "4.4\n",
      "4.5\n",
      "4.6\n",
      "4.7\n",
      "4.8\n",
      "4.9\n",
      "5.0\n",
      "5.1\n",
      "5.2\n",
      "5.3\n",
      "5.4\n",
      "5.5\n",
      "5.6\n",
      "5.7\n",
      "5.8\n",
      "5.9\n",
      "6.0\n",
      "6.1\n",
      "6.2\n",
      "6.3\n",
      "6.4\n",
      "6.5\n",
      "6.6\n",
      "6.7\n",
      "6.8\n",
      "6.9\n",
      "7.0\n",
      "7.1\n",
      "7.2\n",
      "7.3\n",
      "7.4\n",
      "7.5\n",
      "7.6\n",
      "7.7\n",
      "7.8\n",
      "7.9\n",
      "8.0\n"
     ]
    }
   ],
   "source": [
    "def main():\n",
    "    num = int(str(input(\"input number: \")))\n",
    "\n",
    "    for i in range(20, 81):\n",
    "        print(i / num)\n",
    "\n",
    "\n",
    "if __name__ == \"__main__\":\n",
    "    main()\n"
   ]
  },
  {
   "attachments": {},
   "cell_type": "markdown",
   "metadata": {},
   "source": [
    "Zadanie 8, num = 5, start = 10, end = 15"
   ]
  },
  {
   "cell_type": "code",
   "execution_count": 8,
   "metadata": {},
   "outputs": [
    {
     "name": "stdout",
     "output_type": "stream",
     "text": [
      "2.0\n",
      "2.2\n",
      "2.4\n",
      "2.6\n",
      "2.8\n",
      "3.0\n"
     ]
    }
   ],
   "source": [
    "def main():\n",
    "    num = int(str(input(\"input number: \")))\n",
    "\n",
    "    start = int(str(input(\"input start of range: \")))\n",
    "    end = int(str(input(\"input end of range: \")))\n",
    "\n",
    "    for i in range(start, end+1):\n",
    "        print(i / num)\n",
    "\n",
    "\n",
    "if __name__ == \"__main__\":\n",
    "    main()\n"
   ]
  },
  {
   "attachments": {},
   "cell_type": "markdown",
   "metadata": {},
   "source": [
    "Zadanie 9, a = 3, b = 4, c = 5"
   ]
  },
  {
   "cell_type": "code",
   "execution_count": 9,
   "metadata": {},
   "outputs": [
    {
     "name": "stdout",
     "output_type": "stream",
     "text": [
      "sides are pythagorean.\n"
     ]
    }
   ],
   "source": [
    "def main():\n",
    "    a = float(input(\"input first side: \"))\n",
    "    b = float(input(\"input second side: \"))\n",
    "    c = float(input(\"input third side: \"))\n",
    "\n",
    "    if a <= 0 or b <= 0 or c <= 0:\n",
    "        print(\"error: all values should be positive.\")\n",
    "    elif a**2 + b**2 == c**2 or a**2 + c**2 == b**2 or b**2 + c**2 == a**2:\n",
    "        print(\"sides are pythagorean.\")\n",
    "    else:\n",
    "        print(\"sides are not pythagorean.\")\n",
    "\n",
    "\n",
    "if __name__ == \"__main__\":\n",
    "    main()\n"
   ]
  },
  {
   "attachments": {},
   "cell_type": "markdown",
   "metadata": {},
   "source": [
    "Zadanie 11, first_name = Mikołaj, second_name = Mikołaj"
   ]
  },
  {
   "cell_type": "code",
   "execution_count": 10,
   "metadata": {},
   "outputs": [
    {
     "name": "stdout",
     "output_type": "stream",
     "text": [
      "names are equal\n"
     ]
    }
   ],
   "source": [
    "def main():\n",
    "    first_name = input(\"input first name: \")\n",
    "    second_name = input(\"input second name: \")\n",
    "    if first_name == second_name:\n",
    "        print(\"names are equal\")\n",
    "    else:\n",
    "        print(\"names are not equal\")\n",
    "\n",
    "\n",
    "if __name__ == \"__main__\":\n",
    "    main()\n"
   ]
  },
  {
   "attachments": {},
   "cell_type": "markdown",
   "metadata": {},
   "source": [
    "Zadanie 12"
   ]
  },
  {
   "cell_type": "code",
   "execution_count": 11,
   "metadata": {},
   "outputs": [
    {
     "name": "stdout",
     "output_type": "stream",
     "text": [
      "2500\n"
     ]
    }
   ],
   "source": [
    "def main():\n",
    "    sum = 0\n",
    "    i = 1\n",
    "    while (i <= 100):\n",
    "        if i % 2 != 0:\n",
    "            sum += i\n",
    "        i += 1\n",
    "\n",
    "    print(sum)\n",
    "\n",
    "\n",
    "if __name__ == \"__main__\":\n",
    "    main()\n"
   ]
  }
 ],
 "metadata": {
  "kernelspec": {
   "display_name": "Python 3",
   "language": "python",
   "name": "python3"
  },
  "language_info": {
   "codemirror_mode": {
    "name": "ipython",
    "version": 3
   },
   "file_extension": ".py",
   "mimetype": "text/x-python",
   "name": "python",
   "nbconvert_exporter": "python",
   "pygments_lexer": "ipython3",
   "version": "3.11.2"
  },
  "orig_nbformat": 4
 },
 "nbformat": 4,
 "nbformat_minor": 2
}
